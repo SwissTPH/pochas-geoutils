{
 "cells": [
  {
   "cell_type": "code",
   "execution_count": 1,
   "id": "refined-pound",
   "metadata": {},
   "outputs": [],
   "source": [
    "import geopandas as gpd\n",
    "from geoutils import grid"
   ]
  },
  {
   "cell_type": "markdown",
   "id": "temporal-abortion",
   "metadata": {},
   "source": [
    "# Generate a grid object"
   ]
  },
  {
   "cell_type": "code",
   "execution_count": 2,
   "id": "absent-remainder",
   "metadata": {},
   "outputs": [],
   "source": [
    "g = grid.grid(4136738.313, 4141838.762,2716144.483,2721437.148,cell_size=100,crs=3035)"
   ]
  },
  {
   "cell_type": "code",
   "execution_count": 3,
   "id": "colored-invasion",
   "metadata": {},
   "outputs": [
    {
     "data": {
      "text/plain": [
       "<geoutils.grid.grid at 0x7f08f8336450>"
      ]
     },
     "execution_count": 3,
     "metadata": {},
     "output_type": "execute_result"
    }
   ],
   "source": [
    "g"
   ]
  },
  {
   "cell_type": "markdown",
   "id": "found-consensus",
   "metadata": {},
   "source": [
    "# Generate centeral points from grid object"
   ]
  },
  {
   "cell_type": "code",
   "execution_count": 4,
   "id": "after-butler",
   "metadata": {},
   "outputs": [
    {
     "data": {
      "text/html": [
       "<div>\n",
       "<style scoped>\n",
       "    .dataframe tbody tr th:only-of-type {\n",
       "        vertical-align: middle;\n",
       "    }\n",
       "\n",
       "    .dataframe tbody tr th {\n",
       "        vertical-align: top;\n",
       "    }\n",
       "\n",
       "    .dataframe thead th {\n",
       "        text-align: right;\n",
       "    }\n",
       "</style>\n",
       "<table border=\"1\" class=\"dataframe\">\n",
       "  <thead>\n",
       "    <tr style=\"text-align: right;\">\n",
       "      <th></th>\n",
       "      <th>X</th>\n",
       "      <th>Y</th>\n",
       "      <th>coords</th>\n",
       "    </tr>\n",
       "  </thead>\n",
       "  <tbody>\n",
       "    <tr>\n",
       "      <th>0</th>\n",
       "      <td>4136788.0</td>\n",
       "      <td>2716194.0</td>\n",
       "      <td>POINT (4136788.000 2716194.000)</td>\n",
       "    </tr>\n",
       "    <tr>\n",
       "      <th>1</th>\n",
       "      <td>4136888.0</td>\n",
       "      <td>2716194.0</td>\n",
       "      <td>POINT (4136888.000 2716194.000)</td>\n",
       "    </tr>\n",
       "    <tr>\n",
       "      <th>2</th>\n",
       "      <td>4136988.0</td>\n",
       "      <td>2716194.0</td>\n",
       "      <td>POINT (4136988.000 2716194.000)</td>\n",
       "    </tr>\n",
       "    <tr>\n",
       "      <th>3</th>\n",
       "      <td>4137088.0</td>\n",
       "      <td>2716194.0</td>\n",
       "      <td>POINT (4137088.000 2716194.000)</td>\n",
       "    </tr>\n",
       "    <tr>\n",
       "      <th>4</th>\n",
       "      <td>4137188.0</td>\n",
       "      <td>2716194.0</td>\n",
       "      <td>POINT (4137188.000 2716194.000)</td>\n",
       "    </tr>\n",
       "  </tbody>\n",
       "</table>\n",
       "</div>"
      ],
      "text/plain": [
       "           X          Y                           coords\n",
       "0  4136788.0  2716194.0  POINT (4136788.000 2716194.000)\n",
       "1  4136888.0  2716194.0  POINT (4136888.000 2716194.000)\n",
       "2  4136988.0  2716194.0  POINT (4136988.000 2716194.000)\n",
       "3  4137088.0  2716194.0  POINT (4137088.000 2716194.000)\n",
       "4  4137188.0  2716194.0  POINT (4137188.000 2716194.000)"
      ]
     },
     "execution_count": 4,
     "metadata": {},
     "output_type": "execute_result"
    }
   ],
   "source": [
    "g.generate_point().head()"
   ]
  },
  {
   "cell_type": "code",
   "execution_count": 5,
   "id": "representative-fashion",
   "metadata": {},
   "outputs": [],
   "source": [
    "g.generate_point().to_file(\"center_point.geojson\", driver='GeoJSON')"
   ]
  },
  {
   "cell_type": "markdown",
   "id": "engaging-fellow",
   "metadata": {},
   "source": [
    "# Generate around points from grid object"
   ]
  },
  {
   "cell_type": "code",
   "execution_count": 6,
   "id": "wrapped-audio",
   "metadata": {},
   "outputs": [],
   "source": [
    "g.generate_point(center=False).to_file(\"around_points.geojson\", driver='GeoJSON')"
   ]
  },
  {
   "cell_type": "markdown",
   "id": "dirty-baptist",
   "metadata": {},
   "source": [
    "# Generate grid from grid object"
   ]
  },
  {
   "cell_type": "code",
   "execution_count": 7,
   "id": "established-efficiency",
   "metadata": {},
   "outputs": [
    {
     "data": {
      "text/html": [
       "<div>\n",
       "<style scoped>\n",
       "    .dataframe tbody tr th:only-of-type {\n",
       "        vertical-align: middle;\n",
       "    }\n",
       "\n",
       "    .dataframe tbody tr th {\n",
       "        vertical-align: top;\n",
       "    }\n",
       "\n",
       "    .dataframe thead th {\n",
       "        text-align: right;\n",
       "    }\n",
       "</style>\n",
       "<table border=\"1\" class=\"dataframe\">\n",
       "  <thead>\n",
       "    <tr style=\"text-align: right;\">\n",
       "      <th></th>\n",
       "      <th>geom</th>\n",
       "    </tr>\n",
       "  </thead>\n",
       "  <tbody>\n",
       "    <tr>\n",
       "      <th>0</th>\n",
       "      <td>POLYGON ((4136738.000 2716144.000, 4136838.000...</td>\n",
       "    </tr>\n",
       "    <tr>\n",
       "      <th>1</th>\n",
       "      <td>POLYGON ((4136838.000 2716144.000, 4136938.000...</td>\n",
       "    </tr>\n",
       "    <tr>\n",
       "      <th>2</th>\n",
       "      <td>POLYGON ((4136938.000 2716144.000, 4137038.000...</td>\n",
       "    </tr>\n",
       "    <tr>\n",
       "      <th>3</th>\n",
       "      <td>POLYGON ((4137038.000 2716144.000, 4137138.000...</td>\n",
       "    </tr>\n",
       "    <tr>\n",
       "      <th>4</th>\n",
       "      <td>POLYGON ((4137138.000 2716144.000, 4137238.000...</td>\n",
       "    </tr>\n",
       "  </tbody>\n",
       "</table>\n",
       "</div>"
      ],
      "text/plain": [
       "                                                geom\n",
       "0  POLYGON ((4136738.000 2716144.000, 4136838.000...\n",
       "1  POLYGON ((4136838.000 2716144.000, 4136938.000...\n",
       "2  POLYGON ((4136938.000 2716144.000, 4137038.000...\n",
       "3  POLYGON ((4137038.000 2716144.000, 4137138.000...\n",
       "4  POLYGON ((4137138.000 2716144.000, 4137238.000..."
      ]
     },
     "execution_count": 7,
     "metadata": {},
     "output_type": "execute_result"
    }
   ],
   "source": [
    "g.generate_grid().head()"
   ]
  },
  {
   "cell_type": "code",
   "execution_count": 8,
   "id": "neither-greene",
   "metadata": {},
   "outputs": [],
   "source": [
    "g.generate_grid().to_file(\"grid.geojson\", driver='GeoJSON')"
   ]
  },
  {
   "cell_type": "markdown",
   "id": "overall-moral",
   "metadata": {},
   "source": [
    "# Generate cells inside polygons"
   ]
  },
  {
   "cell_type": "code",
   "execution_count": 9,
   "id": "regulation-unknown",
   "metadata": {},
   "outputs": [],
   "source": [
    "pol = gpd.read_file('polygons.geojson')"
   ]
  },
  {
   "cell_type": "code",
   "execution_count": 10,
   "id": "premium-redhead",
   "metadata": {},
   "outputs": [],
   "source": [
    "g.cells_within_polygon(pol).to_file(\"grid_within.geojson\", driver='GeoJSON')"
   ]
  },
  {
   "cell_type": "markdown",
   "id": "amazing-relaxation",
   "metadata": {},
   "source": [
    "# Generate BID"
   ]
  },
  {
   "cell_type": "code",
   "execution_count": 11,
   "id": "attractive-slave",
   "metadata": {},
   "outputs": [],
   "source": [
    "grid_gdf = g.generate_grid()"
   ]
  },
  {
   "cell_type": "code",
   "execution_count": 12,
   "id": "conditional-ocean",
   "metadata": {},
   "outputs": [
    {
     "data": {
      "text/html": [
       "<div>\n",
       "<style scoped>\n",
       "    .dataframe tbody tr th:only-of-type {\n",
       "        vertical-align: middle;\n",
       "    }\n",
       "\n",
       "    .dataframe tbody tr th {\n",
       "        vertical-align: top;\n",
       "    }\n",
       "\n",
       "    .dataframe thead th {\n",
       "        text-align: right;\n",
       "    }\n",
       "</style>\n",
       "<table border=\"1\" class=\"dataframe\">\n",
       "  <thead>\n",
       "    <tr style=\"text-align: right;\">\n",
       "      <th></th>\n",
       "      <th>geom</th>\n",
       "    </tr>\n",
       "  </thead>\n",
       "  <tbody>\n",
       "    <tr>\n",
       "      <th>0</th>\n",
       "      <td>POLYGON ((4136738.000 2716144.000, 4136838.000...</td>\n",
       "    </tr>\n",
       "    <tr>\n",
       "      <th>1</th>\n",
       "      <td>POLYGON ((4136838.000 2716144.000, 4136938.000...</td>\n",
       "    </tr>\n",
       "    <tr>\n",
       "      <th>2</th>\n",
       "      <td>POLYGON ((4136938.000 2716144.000, 4137038.000...</td>\n",
       "    </tr>\n",
       "    <tr>\n",
       "      <th>3</th>\n",
       "      <td>POLYGON ((4137038.000 2716144.000, 4137138.000...</td>\n",
       "    </tr>\n",
       "    <tr>\n",
       "      <th>4</th>\n",
       "      <td>POLYGON ((4137138.000 2716144.000, 4137238.000...</td>\n",
       "    </tr>\n",
       "  </tbody>\n",
       "</table>\n",
       "</div>"
      ],
      "text/plain": [
       "                                                geom\n",
       "0  POLYGON ((4136738.000 2716144.000, 4136838.000...\n",
       "1  POLYGON ((4136838.000 2716144.000, 4136938.000...\n",
       "2  POLYGON ((4136938.000 2716144.000, 4137038.000...\n",
       "3  POLYGON ((4137038.000 2716144.000, 4137138.000...\n",
       "4  POLYGON ((4137138.000 2716144.000, 4137238.000..."
      ]
     },
     "execution_count": 12,
     "metadata": {},
     "output_type": "execute_result"
    }
   ],
   "source": [
    "grid_gdf.head()"
   ]
  },
  {
   "cell_type": "code",
   "execution_count": 14,
   "id": "framed-pakistan",
   "metadata": {},
   "outputs": [
    {
     "data": {
      "text/html": [
       "<div>\n",
       "<style scoped>\n",
       "    .dataframe tbody tr th:only-of-type {\n",
       "        vertical-align: middle;\n",
       "    }\n",
       "\n",
       "    .dataframe tbody tr th {\n",
       "        vertical-align: top;\n",
       "    }\n",
       "\n",
       "    .dataframe thead th {\n",
       "        text-align: right;\n",
       "    }\n",
       "</style>\n",
       "<table border=\"1\" class=\"dataframe\">\n",
       "  <thead>\n",
       "    <tr style=\"text-align: right;\">\n",
       "      <th></th>\n",
       "      <th>geom</th>\n",
       "      <th>X</th>\n",
       "      <th>Y</th>\n",
       "      <th>BID</th>\n",
       "    </tr>\n",
       "  </thead>\n",
       "  <tbody>\n",
       "    <tr>\n",
       "      <th>0</th>\n",
       "      <td>POLYGON ((4136738.000 2716144.000, 4136838.000...</td>\n",
       "      <td>4136788.0</td>\n",
       "      <td>2716194.0</td>\n",
       "      <td>2716141367</td>\n",
       "    </tr>\n",
       "    <tr>\n",
       "      <th>1</th>\n",
       "      <td>POLYGON ((4136838.000 2716144.000, 4136938.000...</td>\n",
       "      <td>4136888.0</td>\n",
       "      <td>2716194.0</td>\n",
       "      <td>2716141368</td>\n",
       "    </tr>\n",
       "    <tr>\n",
       "      <th>2</th>\n",
       "      <td>POLYGON ((4136938.000 2716144.000, 4137038.000...</td>\n",
       "      <td>4136988.0</td>\n",
       "      <td>2716194.0</td>\n",
       "      <td>2716141369</td>\n",
       "    </tr>\n",
       "    <tr>\n",
       "      <th>3</th>\n",
       "      <td>POLYGON ((4137038.000 2716144.000, 4137138.000...</td>\n",
       "      <td>4137088.0</td>\n",
       "      <td>2716194.0</td>\n",
       "      <td>2716141370</td>\n",
       "    </tr>\n",
       "    <tr>\n",
       "      <th>4</th>\n",
       "      <td>POLYGON ((4137138.000 2716144.000, 4137238.000...</td>\n",
       "      <td>4137188.0</td>\n",
       "      <td>2716194.0</td>\n",
       "      <td>2716141371</td>\n",
       "    </tr>\n",
       "  </tbody>\n",
       "</table>\n",
       "</div>"
      ],
      "text/plain": [
       "                                                geom          X          Y  \\\n",
       "0  POLYGON ((4136738.000 2716144.000, 4136838.000...  4136788.0  2716194.0   \n",
       "1  POLYGON ((4136838.000 2716144.000, 4136938.000...  4136888.0  2716194.0   \n",
       "2  POLYGON ((4136938.000 2716144.000, 4137038.000...  4136988.0  2716194.0   \n",
       "3  POLYGON ((4137038.000 2716144.000, 4137138.000...  4137088.0  2716194.0   \n",
       "4  POLYGON ((4137138.000 2716144.000, 4137238.000...  4137188.0  2716194.0   \n",
       "\n",
       "          BID  \n",
       "0  2716141367  \n",
       "1  2716141368  \n",
       "2  2716141369  \n",
       "3  2716141370  \n",
       "4  2716141371  "
      ]
     },
     "execution_count": 14,
     "metadata": {},
     "output_type": "execute_result"
    }
   ],
   "source": [
    "grid.generate_BID(grid_gdf,coords='geom',cell=100).head()"
   ]
  },
  {
   "cell_type": "code",
   "execution_count": 15,
   "id": "raised-profit",
   "metadata": {},
   "outputs": [
    {
     "data": {
      "text/html": [
       "<div>\n",
       "<style scoped>\n",
       "    .dataframe tbody tr th:only-of-type {\n",
       "        vertical-align: middle;\n",
       "    }\n",
       "\n",
       "    .dataframe tbody tr th {\n",
       "        vertical-align: top;\n",
       "    }\n",
       "\n",
       "    .dataframe thead th {\n",
       "        text-align: right;\n",
       "    }\n",
       "</style>\n",
       "<table border=\"1\" class=\"dataframe\">\n",
       "  <thead>\n",
       "    <tr style=\"text-align: right;\">\n",
       "      <th></th>\n",
       "      <th>geom</th>\n",
       "      <th>X</th>\n",
       "      <th>Y</th>\n",
       "      <th>BID</th>\n",
       "      <th>circularity_percent</th>\n",
       "    </tr>\n",
       "  </thead>\n",
       "  <tbody>\n",
       "    <tr>\n",
       "      <th>0</th>\n",
       "      <td>POLYGON ((4136738.000 2716144.000, 4136838.000...</td>\n",
       "      <td>4136788.0</td>\n",
       "      <td>2716194.0</td>\n",
       "      <td>2716141367</td>\n",
       "      <td>78.539816</td>\n",
       "    </tr>\n",
       "    <tr>\n",
       "      <th>1</th>\n",
       "      <td>POLYGON ((4136838.000 2716144.000, 4136938.000...</td>\n",
       "      <td>4136888.0</td>\n",
       "      <td>2716194.0</td>\n",
       "      <td>2716141368</td>\n",
       "      <td>78.539816</td>\n",
       "    </tr>\n",
       "    <tr>\n",
       "      <th>2</th>\n",
       "      <td>POLYGON ((4136938.000 2716144.000, 4137038.000...</td>\n",
       "      <td>4136988.0</td>\n",
       "      <td>2716194.0</td>\n",
       "      <td>2716141369</td>\n",
       "      <td>78.539816</td>\n",
       "    </tr>\n",
       "    <tr>\n",
       "      <th>3</th>\n",
       "      <td>POLYGON ((4137038.000 2716144.000, 4137138.000...</td>\n",
       "      <td>4137088.0</td>\n",
       "      <td>2716194.0</td>\n",
       "      <td>2716141370</td>\n",
       "      <td>78.539816</td>\n",
       "    </tr>\n",
       "    <tr>\n",
       "      <th>4</th>\n",
       "      <td>POLYGON ((4137138.000 2716144.000, 4137238.000...</td>\n",
       "      <td>4137188.0</td>\n",
       "      <td>2716194.0</td>\n",
       "      <td>2716141371</td>\n",
       "      <td>78.539816</td>\n",
       "    </tr>\n",
       "  </tbody>\n",
       "</table>\n",
       "</div>"
      ],
      "text/plain": [
       "                                                geom          X          Y  \\\n",
       "0  POLYGON ((4136738.000 2716144.000, 4136838.000...  4136788.0  2716194.0   \n",
       "1  POLYGON ((4136838.000 2716144.000, 4136938.000...  4136888.0  2716194.0   \n",
       "2  POLYGON ((4136938.000 2716144.000, 4137038.000...  4136988.0  2716194.0   \n",
       "3  POLYGON ((4137038.000 2716144.000, 4137138.000...  4137088.0  2716194.0   \n",
       "4  POLYGON ((4137138.000 2716144.000, 4137238.000...  4137188.0  2716194.0   \n",
       "\n",
       "          BID  circularity_percent  \n",
       "0  2716141367            78.539816  \n",
       "1  2716141368            78.539816  \n",
       "2  2716141369            78.539816  \n",
       "3  2716141370            78.539816  \n",
       "4  2716141371            78.539816  "
      ]
     },
     "execution_count": 15,
     "metadata": {},
     "output_type": "execute_result"
    }
   ],
   "source": [
    "grid.generate_BID(grid_gdf,coords='geom',cell=100,circularity=True).head()"
   ]
  }
 ],
 "metadata": {
  "kernelspec": {
   "display_name": "Python 3",
   "language": "python",
   "name": "python3"
  },
  "language_info": {
   "codemirror_mode": {
    "name": "ipython",
    "version": 3
   },
   "file_extension": ".py",
   "mimetype": "text/x-python",
   "name": "python",
   "nbconvert_exporter": "python",
   "pygments_lexer": "ipython3",
   "version": "3.7.4"
  }
 },
 "nbformat": 4,
 "nbformat_minor": 5
}
