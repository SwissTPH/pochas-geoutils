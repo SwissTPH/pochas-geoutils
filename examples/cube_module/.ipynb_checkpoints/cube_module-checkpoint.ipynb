{
 "cells": [
  {
   "cell_type": "code",
   "execution_count": 1,
   "id": "solved-lemon",
   "metadata": {},
   "outputs": [],
   "source": [
    "from geoutils import cube\n",
    "import xarray as xr\n",
    "import os"
   ]
  },
  {
   "cell_type": "markdown",
   "id": "resident-crime",
   "metadata": {},
   "source": [
    "# Generate the list of rasters"
   ]
  },
  {
   "cell_type": "code",
   "execution_count": 2,
   "id": "advance-sierra",
   "metadata": {},
   "outputs": [],
   "source": [
    "img = [names for names in os.listdir() if names.endswith('.tif')]"
   ]
  },
  {
   "cell_type": "code",
   "execution_count": 3,
   "id": "coated-racing",
   "metadata": {},
   "outputs": [
    {
     "data": {
      "text/plain": [
       "['02.tif', '01.tif']"
      ]
     },
     "execution_count": 3,
     "metadata": {},
     "output_type": "execute_result"
    }
   ],
   "source": [
    "img"
   ]
  },
  {
   "cell_type": "code",
   "execution_count": 4,
   "id": "needed-handle",
   "metadata": {},
   "outputs": [],
   "source": [
    "series = [xr.open_rasterio(i) for i in img]"
   ]
  },
  {
   "cell_type": "code",
   "execution_count": 5,
   "id": "packed-poison",
   "metadata": {},
   "outputs": [
    {
     "name": "stdout",
     "output_type": "stream",
     "text": [
      "<class 'list'>\n",
      "number of the images: 2\n"
     ]
    }
   ],
   "source": [
    "print(type(series))\n",
    "print(\"number of the images: {}\".format(len(series)))"
   ]
  },
  {
   "cell_type": "markdown",
   "id": "disturbed-reality",
   "metadata": {},
   "source": [
    "# Generating Cube"
   ]
  },
  {
   "cell_type": "code",
   "execution_count": 6,
   "id": "mounted-humanity",
   "metadata": {},
   "outputs": [],
   "source": [
    "# for each image we need to have date. It is better to define it based on the Day\n",
    "cu_obj = cube.cube(series, \"2017-06-01\", \"2017-07-01\", \"30D\")"
   ]
  },
  {
   "cell_type": "code",
   "execution_count": 7,
   "id": "dress-english",
   "metadata": {},
   "outputs": [
    {
     "data": {
      "text/plain": [
       "<geoutils.cube.cube at 0x7f8928a5a990>"
      ]
     },
     "execution_count": 7,
     "metadata": {},
     "output_type": "execute_result"
    }
   ],
   "source": [
    "cu_obj"
   ]
  },
  {
   "cell_type": "code",
   "execution_count": 8,
   "id": "pleasant-gossip",
   "metadata": {},
   "outputs": [],
   "source": [
    "cu = cu_obj.generate_cube()"
   ]
  },
  {
   "cell_type": "code",
   "execution_count": 9,
   "id": "hungry-chuck",
   "metadata": {},
   "outputs": [
    {
     "data": {
      "text/html": [
       "<div>\n",
       "<style scoped>\n",
       "    .dataframe tbody tr th:only-of-type {\n",
       "        vertical-align: middle;\n",
       "    }\n",
       "\n",
       "    .dataframe tbody tr th {\n",
       "        vertical-align: top;\n",
       "    }\n",
       "\n",
       "    .dataframe thead th {\n",
       "        text-align: right;\n",
       "    }\n",
       "</style>\n",
       "<table border=\"1\" class=\"dataframe\">\n",
       "  <thead>\n",
       "    <tr style=\"text-align: right;\">\n",
       "      <th></th>\n",
       "      <th></th>\n",
       "      <th></th>\n",
       "      <th></th>\n",
       "      <th>raster</th>\n",
       "    </tr>\n",
       "    <tr>\n",
       "      <th>time</th>\n",
       "      <th>band</th>\n",
       "      <th>y</th>\n",
       "      <th>x</th>\n",
       "      <th></th>\n",
       "    </tr>\n",
       "  </thead>\n",
       "  <tbody>\n",
       "    <tr>\n",
       "      <th rowspan=\"5\" valign=\"top\">2017-06-01</th>\n",
       "      <th rowspan=\"5\" valign=\"top\">1</th>\n",
       "      <th rowspan=\"5\" valign=\"top\">47.643875</th>\n",
       "      <th>10.249625</th>\n",
       "      <td>0</td>\n",
       "    </tr>\n",
       "    <tr>\n",
       "      <th>10.249875</th>\n",
       "      <td>0</td>\n",
       "    </tr>\n",
       "    <tr>\n",
       "      <th>10.250125</th>\n",
       "      <td>0</td>\n",
       "    </tr>\n",
       "    <tr>\n",
       "      <th>10.250375</th>\n",
       "      <td>0</td>\n",
       "    </tr>\n",
       "    <tr>\n",
       "      <th>10.250625</th>\n",
       "      <td>0</td>\n",
       "    </tr>\n",
       "  </tbody>\n",
       "</table>\n",
       "</div>"
      ],
      "text/plain": [
       "                                     raster\n",
       "time       band y         x                \n",
       "2017-06-01 1    47.643875 10.249625       0\n",
       "                          10.249875       0\n",
       "                          10.250125       0\n",
       "                          10.250375       0\n",
       "                          10.250625       0"
      ]
     },
     "execution_count": 9,
     "metadata": {},
     "output_type": "execute_result"
    }
   ],
   "source": [
    "cu.to_dataframe().head()"
   ]
  },
  {
   "cell_type": "markdown",
   "id": "medium-substance",
   "metadata": {},
   "source": [
    "# Generating Mosaic"
   ]
  },
  {
   "cell_type": "code",
   "execution_count": 14,
   "id": "sunrise-chapter",
   "metadata": {},
   "outputs": [],
   "source": [
    "mosaic = cu_obj.generate_mosaic('Y')"
   ]
  },
  {
   "cell_type": "markdown",
   "id": "liable-westminster",
   "metadata": {},
   "source": [
    "# Save the file as a GeoTIFF"
   ]
  },
  {
   "cell_type": "code",
   "execution_count": 15,
   "id": "romantic-neighbor",
   "metadata": {},
   "outputs": [
    {
     "name": "stdout",
     "output_type": "stream",
     "text": [
      "the file was saved!\n"
     ]
    }
   ],
   "source": [
    "cube.to_tif(mosaic,'result_geotif.tif',crs=3035,cell_size=10)"
   ]
  },
  {
   "cell_type": "markdown",
   "id": "editorial-shoulder",
   "metadata": {},
   "source": [
    "# Save as NetCDF"
   ]
  },
  {
   "cell_type": "code",
   "execution_count": 12,
   "id": "manufactured-causing",
   "metadata": {},
   "outputs": [],
   "source": [
    "cu.to_netcdf('result_NetCDF.nc')"
   ]
  }
 ],
 "metadata": {
  "kernelspec": {
   "display_name": "Python 3",
   "language": "python",
   "name": "python3"
  },
  "language_info": {
   "codemirror_mode": {
    "name": "ipython",
    "version": 3
   },
   "file_extension": ".py",
   "mimetype": "text/x-python",
   "name": "python",
   "nbconvert_exporter": "python",
   "pygments_lexer": "ipython3",
   "version": "3.7.4"
  }
 },
 "nbformat": 4,
 "nbformat_minor": 5
}
